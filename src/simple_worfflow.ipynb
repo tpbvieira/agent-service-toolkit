{
 "cells": [
  {
   "cell_type": "code",
   "execution_count": 1,
   "metadata": {},
   "outputs": [],
   "source": [
    "# Warning control\n",
    "import warnings\n",
    "warnings.filterwarnings('ignore')"
   ]
  },
  {
   "cell_type": "code",
   "execution_count": 15,
   "metadata": {},
   "outputs": [
    {
     "ename": "TypeError",
     "evalue": "coroutine.send() takes exactly one argument (0 given)",
     "output_type": "error",
     "traceback": [
      "\u001b[1;31m---------------------------------------------------------------------------\u001b[0m",
      "\u001b[1;31mTypeError\u001b[0m                                 Traceback (most recent call last)",
      "Cell \u001b[1;32mIn[15], line 22\u001b[0m\n\u001b[0;32m     20\u001b[0m flow \u001b[38;5;241m=\u001b[39m OutputExampleFlow()\n\u001b[0;32m     21\u001b[0m final_output \u001b[38;5;241m=\u001b[39m flow\u001b[38;5;241m.\u001b[39mkickoff()\n\u001b[1;32m---> 22\u001b[0m \u001b[43mfinal_output\u001b[49m\u001b[38;5;241;43m.\u001b[39;49m\u001b[43msend\u001b[49m\u001b[43m(\u001b[49m\u001b[43m)\u001b[49m\n\u001b[0;32m     23\u001b[0m \u001b[38;5;28mprint\u001b[39m(\u001b[38;5;124m\"\u001b[39m\u001b[38;5;124m---- Final Output ----\u001b[39m\u001b[38;5;124m\"\u001b[39m)\n\u001b[0;32m     24\u001b[0m \u001b[38;5;28mprint\u001b[39m(final_output)\n",
      "\u001b[1;31mTypeError\u001b[0m: coroutine.send() takes exactly one argument (0 given)"
     ]
    }
   ],
   "source": [
    "from crewai.flow.flow import Flow, listen, start\n",
    "# from fastapi.testclient import TestClient\n",
    "# from service.service import app\n",
    "\n",
    "class OutputExampleFlow(Flow):\n",
    "    @start()\n",
    "    def first_method(self):\n",
    "        message = \"Output from first_method\"\n",
    "        print(message)\n",
    "        return message\n",
    "\n",
    "    @listen(first_method)\n",
    "    def second_method(self, first_output):\n",
    "        # api_client = TestClient(app)\n",
    "        message = f\"Second method received: {first_output}\"\n",
    "        print(message)\n",
    "        return message\n",
    "\n",
    "\n",
    "flow = OutputExampleFlow()\n",
    "final_output = flow.kickoff()\n",
    "final_output.send()\n",
    "print(\"---- Final Output ----\")\n",
    "print(final_output)\n"
   ]
  },
  {
   "cell_type": "code",
   "execution_count": 19,
   "metadata": {},
   "outputs": [
    {
     "ename": "TypeError",
     "evalue": "Markdown expects text, not <coroutine object Flow.kickoff at 0x000002909BD39210>",
     "output_type": "error",
     "traceback": [
      "\u001b[1;31m---------------------------------------------------------------------------\u001b[0m",
      "\u001b[1;31mTypeError\u001b[0m                                 Traceback (most recent call last)",
      "Cell \u001b[1;32mIn[19], line 2\u001b[0m\n\u001b[0;32m      1\u001b[0m \u001b[38;5;28;01mfrom\u001b[39;00m \u001b[38;5;21;01mIPython\u001b[39;00m\u001b[38;5;21;01m.\u001b[39;00m\u001b[38;5;21;01mdisplay\u001b[39;00m \u001b[38;5;28;01mimport\u001b[39;00m Markdown\n\u001b[1;32m----> 2\u001b[0m \u001b[43mMarkdown\u001b[49m\u001b[43m(\u001b[49m\u001b[43mfinal_output\u001b[49m\u001b[43m)\u001b[49m\n",
      "File \u001b[1;32mc:\\dev\\code_reviewer\\.venv\\Lib\\site-packages\\IPython\\core\\display.py:372\u001b[0m, in \u001b[0;36mDisplayObject.__init__\u001b[1;34m(self, data, url, filename, metadata)\u001b[0m\n\u001b[0;32m    369\u001b[0m     \u001b[38;5;28mself\u001b[39m\u001b[38;5;241m.\u001b[39mmetadata \u001b[38;5;241m=\u001b[39m {}\n\u001b[0;32m    371\u001b[0m \u001b[38;5;28mself\u001b[39m\u001b[38;5;241m.\u001b[39mreload()\n\u001b[1;32m--> 372\u001b[0m \u001b[38;5;28;43mself\u001b[39;49m\u001b[38;5;241;43m.\u001b[39;49m\u001b[43m_check_data\u001b[49m\u001b[43m(\u001b[49m\u001b[43m)\u001b[49m\n",
      "File \u001b[1;32mc:\\dev\\code_reviewer\\.venv\\Lib\\site-packages\\IPython\\core\\display.py:451\u001b[0m, in \u001b[0;36mTextDisplayObject._check_data\u001b[1;34m(self)\u001b[0m\n\u001b[0;32m    449\u001b[0m \u001b[38;5;28;01mdef\u001b[39;00m \u001b[38;5;21m_check_data\u001b[39m(\u001b[38;5;28mself\u001b[39m):\n\u001b[0;32m    450\u001b[0m     \u001b[38;5;28;01mif\u001b[39;00m \u001b[38;5;28mself\u001b[39m\u001b[38;5;241m.\u001b[39mdata \u001b[38;5;129;01mis\u001b[39;00m \u001b[38;5;129;01mnot\u001b[39;00m \u001b[38;5;28;01mNone\u001b[39;00m \u001b[38;5;129;01mand\u001b[39;00m \u001b[38;5;129;01mnot\u001b[39;00m \u001b[38;5;28misinstance\u001b[39m(\u001b[38;5;28mself\u001b[39m\u001b[38;5;241m.\u001b[39mdata, \u001b[38;5;28mstr\u001b[39m):\n\u001b[1;32m--> 451\u001b[0m         \u001b[38;5;28;01mraise\u001b[39;00m \u001b[38;5;167;01mTypeError\u001b[39;00m(\u001b[38;5;124m\"\u001b[39m\u001b[38;5;132;01m%s\u001b[39;00m\u001b[38;5;124m expects text, not \u001b[39m\u001b[38;5;132;01m%r\u001b[39;00m\u001b[38;5;124m\"\u001b[39m \u001b[38;5;241m%\u001b[39m (\u001b[38;5;28mself\u001b[39m\u001b[38;5;241m.\u001b[39m\u001b[38;5;18m__class__\u001b[39m\u001b[38;5;241m.\u001b[39m\u001b[38;5;18m__name__\u001b[39m, \u001b[38;5;28mself\u001b[39m\u001b[38;5;241m.\u001b[39mdata))\n",
      "\u001b[1;31mTypeError\u001b[0m: Markdown expects text, not <coroutine object Flow.kickoff at 0x000002909BD39210>"
     ]
    }
   ],
   "source": [
    "from IPython.display import Markdown\n",
    "Markdown(final_output)"
   ]
  },
  {
   "cell_type": "code",
   "execution_count": 17,
   "metadata": {},
   "outputs": [
    {
     "data": {
      "text/plain": [
       "<coroutine object Flow.kickoff at 0x000002909F5F0D60>"
      ]
     },
     "execution_count": 17,
     "metadata": {},
     "output_type": "execute_result"
    }
   ],
   "source": [
    "from crewai.flow.flow import Flow, listen, start\n",
    "\n",
    "class UnstructuredExampleFlow(Flow):\n",
    "\n",
    "    @start()\n",
    "    def first_method(self):\n",
    "        # The state automatically includes an 'id' field\n",
    "        print(f\"State ID: {self.state['id']}\")\n",
    "        self.state.message = \"Hello from structured flow\"\n",
    "        self.state.counter = 0\n",
    "\n",
    "    @listen(first_method)\n",
    "    def second_method(self):\n",
    "        self.state.counter += 1\n",
    "        self.state.message += \" - updated\"\n",
    "\n",
    "    @listen(second_method)\n",
    "    def third_method(self):\n",
    "        self.state.counter += 1\n",
    "        self.state.message += \" - updated again\"\n",
    "\n",
    "        print(f\"State after third_method: {self.state}\")\n",
    "\n",
    "\n",
    "flow = UnstructuredExampleFlow()\n",
    "flow.kickoff()\n"
   ]
  },
  {
   "cell_type": "code",
   "execution_count": null,
   "metadata": {},
   "outputs": [],
   "source": [
    "# ruff: noqa\n",
    "# pyright: reportUnusedVariable=false\n",
    "# pyright: reportUnusedImport=false\n",
    "import warnings\n",
    "\n",
    "warnings.filterwarnings(\"ignore\")\n",
    "import json\n",
    "from crewai.flow.flow import Flow, listen, start  # noqa: pyright\n",
    "from pydantic import BaseModel  # noqa: pyright\n",
    "\n",
    "\n",
    "class RecipeState(BaseModel):\n",
    "    input: str = \"\"\n",
    "    recipe_data: str = \"\"\n",
    "    file_name: str = \"\"\n",
    "\n",
    "\n",
    "class RecipeFlow(Flow[RecipeState]):\n",
    "    @start()\n",
    "    def extraction(self):\n",
    "        extraction_crew_output = Extraction_Crew.kickoff({\"input\": self.state.input})\n",
    "        # print(\"pydantic\", extraction_crew_output.pydantic)\n",
    "        # store the file name\n",
    "        self.state.file_name = extraction_crew_output.pydantic.file_name\n",
    "        return extraction_crew_output.pydantic\n",
    "\n",
    "    @listen(extraction)\n",
    "    def create_recipe(self, extraction_output):\n",
    "        # print(f\"Extraction in side create {extraction_output}\")\n",
    "        dict_input = extraction_output.dict()\n",
    "        chef_crew_output = Chef_Crew.kickoff(dict_input)\n",
    "        return chef_crew_output.pydantic\n",
    "\n",
    "    @listen(create_recipe)\n",
    "    def write_recipe(self, create_recipe_out):\n",
    "        # print(f\"Write recipe: {create_recipe_out}\")\n",
    "        to_write = create_recipe_out.dict()\n",
    "        to_write[\"file_path\"] = self.state.file_name\n",
    "        print(f\"Assembled to_write: {to_write}\")\n",
    "        writer_crew_output = Writer_Crew.kickoff(to_write)\n",
    "        return writer_crew_output\n",
    "\n",
    "\n",
    "makerecipe = RecipeFlow()\n",
    "flow_output = makerecipe.kickoff(\n",
    "    {\n",
    "        \"input\": \"Provide the Recipe for rice dumplings to serve 15 people, and write to ./chef_recipe.md\"\n",
    "    }\n",
    ")\n",
    "print(flow_output)"
   ]
  }
 ],
 "metadata": {
  "kernelspec": {
   "display_name": ".venv",
   "language": "python",
   "name": "python3"
  },
  "language_info": {
   "codemirror_mode": {
    "name": "ipython",
    "version": 3
   },
   "file_extension": ".py",
   "mimetype": "text/x-python",
   "name": "python",
   "nbconvert_exporter": "python",
   "pygments_lexer": "ipython3",
   "version": "3.12.8"
  }
 },
 "nbformat": 4,
 "nbformat_minor": 2
}
